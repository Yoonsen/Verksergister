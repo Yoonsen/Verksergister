{
 "cells": [
  {
   "cell_type": "code",
   "execution_count": 2,
   "id": "fd53177f-3cd1-44eb-a9d2-6b14964c8be4",
   "metadata": {},
   "outputs": [],
   "source": [
    "import sqlite3\n",
    "import pandas as pd"
   ]
  },
  {
   "cell_type": "code",
   "execution_count": 11,
   "id": "9737319b-aa3b-4337-a049-b8d33298df4d",
   "metadata": {},
   "outputs": [],
   "source": [
    "def query(sql, params=()):\n",
    "    with sqlite3.connect(\"../align.db\") as con:\n",
    "        x = pd.read_sql_query(sql, con, params = params)\n",
    "    return x"
   ]
  },
  {
   "cell_type": "code",
   "execution_count": 12,
   "id": "324fa96f-25b4-40e9-b671-4caa81cc0641",
   "metadata": {},
   "outputs": [
    {
     "data": {
      "text/html": [
       "<div>\n",
       "<style scoped>\n",
       "    .dataframe tbody tr th:only-of-type {\n",
       "        vertical-align: middle;\n",
       "    }\n",
       "\n",
       "    .dataframe tbody tr th {\n",
       "        vertical-align: top;\n",
       "    }\n",
       "\n",
       "    .dataframe thead th {\n",
       "        text-align: right;\n",
       "    }\n",
       "</style>\n",
       "<table border=\"1\" class=\"dataframe\">\n",
       "  <thead>\n",
       "    <tr style=\"text-align: right;\">\n",
       "      <th></th>\n",
       "      <th>type</th>\n",
       "      <th>name</th>\n",
       "      <th>tbl_name</th>\n",
       "      <th>rootpage</th>\n",
       "      <th>sql</th>\n",
       "    </tr>\n",
       "  </thead>\n",
       "  <tbody>\n",
       "    <tr>\n",
       "      <th>0</th>\n",
       "      <td>table</td>\n",
       "      <td>alignments_raw</td>\n",
       "      <td>alignments_raw</td>\n",
       "      <td>1332</td>\n",
       "      <td>CREATE TABLE alignments_raw (source text, targ...</td>\n",
       "    </tr>\n",
       "    <tr>\n",
       "      <th>1</th>\n",
       "      <td>table</td>\n",
       "      <td>alignments_agg</td>\n",
       "      <td>alignments_agg</td>\n",
       "      <td>48</td>\n",
       "      <td>CREATE TABLE alignments_agg (source text, targ...</td>\n",
       "    </tr>\n",
       "  </tbody>\n",
       "</table>\n",
       "</div>"
      ],
      "text/plain": [
       "    type            name        tbl_name  rootpage  \\\n",
       "0  table  alignments_raw  alignments_raw      1332   \n",
       "1  table  alignments_agg  alignments_agg        48   \n",
       "\n",
       "                                                 sql  \n",
       "0  CREATE TABLE alignments_raw (source text, targ...  \n",
       "1  CREATE TABLE alignments_agg (source text, targ...  "
      ]
     },
     "execution_count": 12,
     "metadata": {},
     "output_type": "execute_result"
    }
   ],
   "source": [
    "query(\"select * from sqlite_master\")"
   ]
  },
  {
   "cell_type": "code",
   "execution_count": 17,
   "id": "6f0330aa-16b2-4098-800a-d540babe7ff5",
   "metadata": {},
   "outputs": [
    {
     "data": {
      "text/html": [
       "<div>\n",
       "<style scoped>\n",
       "    .dataframe tbody tr th:only-of-type {\n",
       "        vertical-align: middle;\n",
       "    }\n",
       "\n",
       "    .dataframe tbody tr th {\n",
       "        vertical-align: top;\n",
       "    }\n",
       "\n",
       "    .dataframe thead th {\n",
       "        text-align: right;\n",
       "    }\n",
       "</style>\n",
       "<table border=\"1\" class=\"dataframe\">\n",
       "  <thead>\n",
       "    <tr style=\"text-align: right;\">\n",
       "      <th></th>\n",
       "      <th>source</th>\n",
       "      <th>target</th>\n",
       "      <th>freq</th>\n",
       "    </tr>\n",
       "  </thead>\n",
       "  <tbody>\n",
       "    <tr>\n",
       "      <th>0</th>\n",
       "      <td>kvinden</td>\n",
       "      <td>kvinnen</td>\n",
       "      <td>23</td>\n",
       "    </tr>\n",
       "    <tr>\n",
       "      <th>1</th>\n",
       "      <td>kvinnen</td>\n",
       "      <td>kvinnen</td>\n",
       "      <td>22</td>\n",
       "    </tr>\n",
       "    <tr>\n",
       "      <th>2</th>\n",
       "      <td>Kvinnen</td>\n",
       "      <td>kvinnen</td>\n",
       "      <td>2</td>\n",
       "    </tr>\n",
       "    <tr>\n",
       "      <th>3</th>\n",
       "      <td>kvinde</td>\n",
       "      <td>kvinnen</td>\n",
       "      <td>2</td>\n",
       "    </tr>\n",
       "    <tr>\n",
       "      <th>4</th>\n",
       "      <td>Kvinden</td>\n",
       "      <td>kvinnen</td>\n",
       "      <td>1</td>\n",
       "    </tr>\n",
       "    <tr>\n",
       "      <th>5</th>\n",
       "      <td>engel</td>\n",
       "      <td>kvinnen</td>\n",
       "      <td>1</td>\n",
       "    </tr>\n",
       "    <tr>\n",
       "      <th>6</th>\n",
       "      <td>hustruen</td>\n",
       "      <td>kvinnen</td>\n",
       "      <td>1</td>\n",
       "    </tr>\n",
       "  </tbody>\n",
       "</table>\n",
       "</div>"
      ],
      "text/plain": [
       "     source   target  freq\n",
       "0   kvinden  kvinnen    23\n",
       "1   kvinnen  kvinnen    22\n",
       "2   Kvinnen  kvinnen     2\n",
       "3    kvinde  kvinnen     2\n",
       "4   Kvinden  kvinnen     1\n",
       "5     engel  kvinnen     1\n",
       "6  hustruen  kvinnen     1"
      ]
     },
     "execution_count": 17,
     "metadata": {},
     "output_type": "execute_result"
    }
   ],
   "source": [
    "query(\"select * from alignments_agg where target = 'kvinnen' order by freq desc limit 10\")"
   ]
  }
 ],
 "metadata": {
  "kernelspec": {
   "display_name": "Python 3 (ipykernel)",
   "language": "python",
   "name": "python3"
  },
  "language_info": {
   "codemirror_mode": {
    "name": "ipython",
    "version": 3
   },
   "file_extension": ".py",
   "mimetype": "text/x-python",
   "name": "python",
   "nbconvert_exporter": "python",
   "pygments_lexer": "ipython3",
   "version": "3.9.7"
  }
 },
 "nbformat": 4,
 "nbformat_minor": 5
}
