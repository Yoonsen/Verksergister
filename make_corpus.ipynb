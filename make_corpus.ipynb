{
 "cells": [
  {
   "cell_type": "code",
   "execution_count": 1,
   "metadata": {},
   "outputs": [],
   "source": [
    "import dhlab.module_update as mu\n",
    "import dhlab.text as dh\n",
    "import pandas as pd\n",
    "import verk as v"
   ]
  },
  {
   "cell_type": "code",
   "execution_count": 3,
   "metadata": {},
   "outputs": [
    {
     "data": {
      "text/html": [
       "<style>@import url(http://fonts.googleapis.com/css?family=Lato|Philosopher|Montserrat|Source+Code+Pro|Merriweather|Shippori+Mincho|Istok+Web|Philosopher|Assistant:200,400,700);\n",
       "\n",
<<<<<<< HEAD
       "p {\n",
       "    font-size:1.3em;\n",
       "    font-family:serif;\n",
       "    line-height:1.4em;\n",
       "    color:#142850;\n",
       "}\n",
       "h1, h2, h3, h4 {\n",
       "    color:#27496d;\n",
       "}\n",
       "\n",
       "/*\n",
       ".prompt, .jp-InputPrompt, .jp-InputArea-prompt, .jp-OutputPrompt, .jp-OutputArea-prompt {\n",
       "    visibility: hidden; \n",
=======
       "body  {\n",
       "    margin:5px;\n",
>>>>>>> 2ecaa995a0026be7df59be34a32620554aa836f1
       "}\n",
       "\n",
       "\n",
<<<<<<< HEAD
       ".jp-CodeCell .jp-Notebook-cell    {\n",
       "    margin-left:10%;\n",
       "    margin-right:5%;\n",
       "}\n",
       "\n",
       "\n",
       ".jp-InputArea, .jp-OutputArea {\n",
       "    margin-left:2.5em;\n",
       "    margin-right:2.5em;\n",
       "}\n",
       "*/\n",
       "\n",
       "\n",
       "body  {\n",
       "    margin:10%;\n",
       "    counter-reset: h1counter;\n",
       "\n",
       "}\n",
       "\n",
       "/* .jp-MarkdownOutput, .text_cell_render {\n",
       "\n",
       "    background-color:#FEFBF1;    \n",
       "    border-style: solid;\n",
       "    border-width: 1px;\n",
       "    border-color: rgba(0,0,0, 0.10);;\n",
       "} */\n",
       "\n",
       "\n",
=======
       "    background-color:#FEFBF1;    \n",
       "    border-style: solid;\n",
       "    border-width: 1px;\n",
       "    border-color: rgba(0,0,0, 0.10);;\n",
       "}\n",
       "\n",
       "p {\n",
       "\tfont-family: 'Shippori+Mincho'; \n",
       "\tfont-size:1.1em;\n",
       "    color: Black;\n",
       "    font-size: 1.2em;\n",
       "    font-family:Serif;\n",
       "}\n",
       "  \n",
       "h1, h2, h3 {\n",
       "\tfont-family: 'Montserrat', sans-serif;\n",
       "\tline-height: 2em;\n",
       "\tcolor:FireBrick;\n",
       "\tfont-weight: 600;\n",
       "}\n",
       "\n",
       "}\n",
       "\n",
>>>>>>> 2ecaa995a0026be7df59be34a32620554aa836f1
       "h1:after {\n",
       "    content: \"\"; /* This is necessary for the pseudo element to work. */ \n",
       "    display: block; /* This will put the pseudo element on its own line. */\n",
       "    /*margin: 0 auto; This will center the border. */\n",
       "    width: 50%; /* Change this to whatever width you want. */\n",
       "    padding-top: 10px;\n",
       "    border-bottom:3px solid SlateGray; /* FireBrick; */\n",
       "}\n",
       "\n",
       "h2:after {\n",
       "    content: \"\"; /* This is necessary for the pseudo element to work. */ \n",
       "    display: block; /* This will put the pseudo element on its own line. */\n",
       "    /*margin: 0 auto; This will center the border. */\n",
       "    width: 30%; /* Change this to whatever width you want. */\n",
       "    padding-top: 10px;\n",
       "    border-bottom:2px solid SlateGray; /* FireBrick; */\n",
       "}\n",
       "\n",
       "</style>"
      ],
      "text/plain": [
       "<IPython.core.display.HTML object>"
      ]
     },
     "execution_count": 3,
     "metadata": {},
     "output_type": "execute_result"
    }
   ],
   "source": [
    "mu.css()"
   ]
  },
  {
   "cell_type": "code",
<<<<<<< HEAD
   "execution_count": 3,
=======
   "execution_count": 43,
>>>>>>> 2ecaa995a0026be7df59be34a32620554aa836f1
   "metadata": {},
   "outputs": [],
   "source": [
    "def split_old_new(df, new_word = None, old_word = None, threshold=50):\n",
    "    \"\"\"Take a dataframe as document term matrix and return old URLs vs new URLs\n",
    "    arguments:\n",
    "        df: dataframe (counts feature of Counts() object)\n",
    "        new_word: a word for the new era\n",
    "        old_word: a word from the old era\"\"\"\n",
    "    old_new = []\n",
    "    a = (df.loc[new_word].fillna(0) +1)/(df.loc[old_word].fillna(0)  +1)\n",
    "    new = a[a > threshold].index\n",
    "    old = a[a < 0.8].index\n",
    "    return {'old':list(old),  'new': list(new)}"
   ]
  },
  {
   "cell_type": "markdown",
   "metadata": {},
   "source": [
    "Finn bøker til parallellstilling"
   ]
  },
  {
   "cell_type": "code",
<<<<<<< HEAD
   "execution_count": 4,
=======
   "execution_count": 5,
>>>>>>> 2ecaa995a0026be7df59be34a32620554aa836f1
   "metadata": {},
   "outputs": [
    {
     "data": {
      "text/plain": [
       "85"
      ]
     },
<<<<<<< HEAD
     "execution_count": 4,
=======
     "execution_count": 5,
>>>>>>> 2ecaa995a0026be7df59be34a32620554aa836f1
     "metadata": {},
     "output_type": "execute_result"
    }
   ],
   "source": [
    "skram = dh.Corpus(doctype=\"digibok\", author = \"camilla collett\", limit = 1000)\n",
    "skram.size"
   ]
  },
  {
   "cell_type": "code",
<<<<<<< HEAD:verksregister/lag_korpus.ipynb
   "execution_count": 48,
=======
<<<<<<< HEAD
   "execution_count": 5,
=======
   "execution_count": 33,
>>>>>>> 2ecaa995a0026be7df59be34a32620554aa836f1
>>>>>>> b9683ca451585506e5daed859a5c676bfdef810d:verksregister/make_corpus.ipynb
   "metadata": {},
   "outputs": [
    {
     "data": {
      "text/html": [
       "<div>\n",
       "<style scoped>\n",
       "    .dataframe tbody tr th:only-of-type {\n",
       "        vertical-align: middle;\n",
       "    }\n",
       "\n",
       "    .dataframe tbody tr th {\n",
       "        vertical-align: top;\n",
       "    }\n",
       "\n",
       "    .dataframe thead th {\n",
       "        text-align: right;\n",
       "    }\n",
       "</style>\n",
       "<table border=\"1\" class=\"dataframe\">\n",
       "  <thead>\n",
       "    <tr style=\"text-align: right;\">\n",
       "      <th></th>\n",
       "      <th>id</th>\n",
       "      <th>title</th>\n",
       "      <th>language</th>\n",
       "      <th>quality</th>\n",
       "      <th>created</th>\n",
       "      <th>manifested</th>\n",
       "      <th>creators</th>\n",
       "      <th>types</th>\n",
       "      <th>deleted</th>\n",
       "    </tr>\n",
       "  </thead>\n",
       "  <tbody>\n",
       "    <tr>\n",
       "      <th>0</th>\n",
       "      <td>64a2844abe6d7b78619b7c6fbb21039e8e9243fdb4a54a...</td>\n",
       "      <td>Die Leiden des jungen Werthers</td>\n",
       "      <td>ger</td>\n",
       "      <td>kat2</td>\n",
       "      <td>2018-07-24T11:32:13.000+0000</td>\n",
       "      <td>1819-12-31T23:00:00.000+0000</td>\n",
       "      <td>[{'name': 'Goethe, Johann Wolfgang von', 'birt...</td>\n",
       "      <td>[{'id': 'V1000', 'labels': {'no': 'Språkbasert...</td>\n",
       "      <td>False</td>\n",
       "    </tr>\n",
       "  </tbody>\n",
       "</table>\n",
       "</div>"
      ],
      "text/plain": [
       "                                                  id  \\\n",
       "0  64a2844abe6d7b78619b7c6fbb21039e8e9243fdb4a54a...   \n",
       "\n",
       "                            title language quality  \\\n",
       "0  Die Leiden des jungen Werthers      ger    kat2   \n",
       "\n",
       "                        created                    manifested  \\\n",
       "0  2018-07-24T11:32:13.000+0000  1819-12-31T23:00:00.000+0000   \n",
       "\n",
       "                                            creators  \\\n",
       "0  [{'name': 'Goethe, Johann Wolfgang von', 'birt...   \n",
       "\n",
       "                                               types  deleted  \n",
       "0  [{'id': 'V1000', 'labels': {'no': 'Språkbasert...    False  "
      ]
     },
<<<<<<< HEAD:verksregister/lag_korpus.ipynb
     "execution_count": 48,
=======
<<<<<<< HEAD
     "execution_count": 5,
=======
     "execution_count": 33,
>>>>>>> 2ecaa995a0026be7df59be34a32620554aa836f1
>>>>>>> b9683ca451585506e5daed859a5c676bfdef810d:verksregister/make_corpus.ipynb
     "metadata": {},
     "output_type": "execute_result"
    }
   ],
   "source": [
    "(works := v.find_works(\"goethe\", \"unge werthers lidelser\"))"
   ]
  },
  {
   "cell_type": "code",
   "execution_count": 49,
   "metadata": {},
   "outputs": [
    {
     "data": {
      "text/plain": [
       "'64a2844abe6d7b78619b7c6fbb21039e8e9243fdb4a54a1690fc00674bd8a8cb'"
      ]
     },
     "execution_count": 49,
     "metadata": {},
     "output_type": "execute_result"
    }
   ],
   "source": [
    "\n",
    "works.id.values[0]"
   ]
  },
  {
   "cell_type": "code",
   "execution_count": 46,
   "metadata": {},
   "outputs": [],
   "source": [
    "verk = dh.CorpusFromIdentifiers(v.urns_for_works(works.id.values[0]))"
   ]
  },
  {
   "cell_type": "code",
   "execution_count": 47,
   "metadata": {},
   "outputs": [
    {
     "data": {
      "text/html": [
       "<div>\n",
       "<style scoped>\n",
       "    .dataframe tbody tr th:only-of-type {\n",
       "        vertical-align: middle;\n",
       "    }\n",
       "\n",
       "    .dataframe tbody tr th {\n",
       "        vertical-align: top;\n",
       "    }\n",
       "\n",
       "    .dataframe thead th {\n",
       "        text-align: right;\n",
       "    }\n",
       "</style>\n",
       "<table border=\"1\" class=\"dataframe\">\n",
       "  <thead>\n",
       "    <tr style=\"text-align: right;\">\n",
       "      <th></th>\n",
       "      <th>dhlabid</th>\n",
       "      <th>title</th>\n",
       "      <th>authors</th>\n",
       "      <th>urn</th>\n",
       "      <th>oaiid</th>\n",
       "      <th>sesamid</th>\n",
       "      <th>isbn10</th>\n",
       "      <th>city</th>\n",
       "      <th>timestamp</th>\n",
       "      <th>year</th>\n",
       "      <th>publisher</th>\n",
       "      <th>langs</th>\n",
       "      <th>subjects</th>\n",
       "      <th>ddc</th>\n",
       "      <th>genres</th>\n",
       "      <th>literaryform</th>\n",
       "      <th>doctype</th>\n",
       "    </tr>\n",
       "  </thead>\n",
       "  <tbody>\n",
       "    <tr>\n",
       "      <th>0</th>\n",
       "      <td>100480258</td>\n",
       "      <td>Den unge Werthers lidelser</td>\n",
       "      <td>Goethe , Johann Wolfgang von / Konow , Ingebor...</td>\n",
       "      <td>URN:NBN:no-nb_digibok_2008040300020</td>\n",
       "      <td>oai:nb.bibsys.no:999310878994702202</td>\n",
       "      <td>342cec5f7a964b876e809e608cfd9aab</td>\n",
       "      <td></td>\n",
       "      <td>Kristiania</td>\n",
       "      <td>18960101</td>\n",
       "      <td>1896</td>\n",
       "      <td>Aschehoug</td>\n",
       "      <td>nob / ger</td>\n",
       "      <td></td>\n",
       "      <td></td>\n",
       "      <td></td>\n",
       "      <td>Uklassifisert</td>\n",
       "      <td>digibok</td>\n",
       "    </tr>\n",
       "    <tr>\n",
       "      <th>1</th>\n",
       "      <td>100526798</td>\n",
       "      <td>Unge Werther</td>\n",
       "      <td>Goethe , Johann Wolfgang von / Holmboe , Lotte</td>\n",
       "      <td>URN:NBN:no-nb_digibok_2009031600127</td>\n",
       "      <td>oai:nb.bibsys.no:999415456104702202</td>\n",
       "      <td>24c6f6291a55416d9842ca631ad8f945</td>\n",
       "      <td>8202147166</td>\n",
       "      <td>[Oslo]</td>\n",
       "      <td>19940101</td>\n",
       "      <td>1994</td>\n",
       "      <td>Cappelen</td>\n",
       "      <td>nob / ger</td>\n",
       "      <td>tysk / litteratur / skjønnlitteratur</td>\n",
       "      <td>833</td>\n",
       "      <td>fiction</td>\n",
       "      <td>Skjønnlitteratur</td>\n",
       "      <td>digibok</td>\n",
       "    </tr>\n",
       "    <tr>\n",
       "      <th>2</th>\n",
       "      <td>100558929</td>\n",
       "      <td>Den unge Werthers lidelser</td>\n",
       "      <td>Goethe , Johann Wolfgang von / Lie , Nils</td>\n",
       "      <td>URN:NBN:no-nb_digibok_2008081500025</td>\n",
       "      <td>oai:nb.bibsys.no:999807565454702202</td>\n",
       "      <td>aba72891568b71e70d3a84f94cc9ad15</td>\n",
       "      <td>8205254591</td>\n",
       "      <td>[Oslo]</td>\n",
       "      <td>19980101</td>\n",
       "      <td>1998</td>\n",
       "      <td>Gyldendal</td>\n",
       "      <td>nob / ger</td>\n",
       "      <td>kjærlighet / skjønnlitteratur</td>\n",
       "      <td>833</td>\n",
       "      <td>fiction</td>\n",
       "      <td>Skjønnlitteratur</td>\n",
       "      <td>digibok</td>\n",
       "    </tr>\n",
       "    <tr>\n",
       "      <th>3</th>\n",
       "      <td>100049864</td>\n",
       "      <td>Unge Werthers lidelser</td>\n",
       "      <td>Goethe , Johann Wolfgang von / Holmboe , Lotte...</td>\n",
       "      <td>URN:NBN:no-nb_digibok_2011060606014</td>\n",
       "      <td>oai:nb.bibsys.no:999916946274702202</td>\n",
       "      <td>6268abd340c67cb354257858e94eb51b</td>\n",
       "      <td>8252539319</td>\n",
       "      <td>[Oslo]</td>\n",
       "      <td>19990101</td>\n",
       "      <td>1999</td>\n",
       "      <td>Den norske bokklubben</td>\n",
       "      <td>nob / ger</td>\n",
       "      <td>selvmord / forfattere / roman</td>\n",
       "      <td>833</td>\n",
       "      <td>fiction</td>\n",
       "      <td>Skjønnlitteratur</td>\n",
       "      <td>digibok</td>\n",
       "    </tr>\n",
       "  </tbody>\n",
       "</table>\n",
       "</div>"
      ],
      "text/plain": [
       "     dhlabid                       title  \\\n",
       "0  100480258  Den unge Werthers lidelser   \n",
       "1  100526798                Unge Werther   \n",
       "2  100558929  Den unge Werthers lidelser   \n",
       "3  100049864      Unge Werthers lidelser   \n",
       "\n",
       "                                             authors  \\\n",
       "0  Goethe , Johann Wolfgang von / Konow , Ingebor...   \n",
       "1     Goethe , Johann Wolfgang von / Holmboe , Lotte   \n",
       "2          Goethe , Johann Wolfgang von / Lie , Nils   \n",
       "3  Goethe , Johann Wolfgang von / Holmboe , Lotte...   \n",
       "\n",
       "                                   urn                                oaiid  \\\n",
       "0  URN:NBN:no-nb_digibok_2008040300020  oai:nb.bibsys.no:999310878994702202   \n",
       "1  URN:NBN:no-nb_digibok_2009031600127  oai:nb.bibsys.no:999415456104702202   \n",
       "2  URN:NBN:no-nb_digibok_2008081500025  oai:nb.bibsys.no:999807565454702202   \n",
       "3  URN:NBN:no-nb_digibok_2011060606014  oai:nb.bibsys.no:999916946274702202   \n",
       "\n",
       "                            sesamid      isbn10        city  timestamp  year  \\\n",
       "0  342cec5f7a964b876e809e608cfd9aab              Kristiania   18960101  1896   \n",
       "1  24c6f6291a55416d9842ca631ad8f945  8202147166      [Oslo]   19940101  1994   \n",
       "2  aba72891568b71e70d3a84f94cc9ad15  8205254591      [Oslo]   19980101  1998   \n",
       "3  6268abd340c67cb354257858e94eb51b  8252539319      [Oslo]   19990101  1999   \n",
       "\n",
       "               publisher      langs                              subjects  \\\n",
       "0              Aschehoug  nob / ger                                         \n",
       "1               Cappelen  nob / ger  tysk / litteratur / skjønnlitteratur   \n",
       "2              Gyldendal  nob / ger         kjærlighet / skjønnlitteratur   \n",
       "3  Den norske bokklubben  nob / ger         selvmord / forfattere / roman   \n",
       "\n",
       "   ddc   genres      literaryform  doctype  \n",
       "0                   Uklassifisert  digibok  \n",
       "1  833  fiction  Skjønnlitteratur  digibok  \n",
       "2  833  fiction  Skjønnlitteratur  digibok  \n",
       "3  833  fiction  Skjønnlitteratur  digibok  "
      ]
     },
     "execution_count": 47,
     "metadata": {},
     "output_type": "execute_result"
    }
   ],
   "source": [
    "verk.corpus"
   ]
  },
  {
<<<<<<< HEAD
   "cell_type": "code",
   "execution_count": 8,
   "metadata": {},
   "outputs": [],
   "source": [
    "testwords = \"paa på\".split()"
   ]
  },
  {
   "cell_type": "code",
   "execution_count": 9,
   "metadata": {},
   "outputs": [],
   "source": [
    "counts = dh.Counts(amtmann, words = testwords)"
   ]
  },
  {
   "cell_type": "code",
   "execution_count": 10,
=======
   "cell_type": "markdown",
>>>>>>> 2ecaa995a0026be7df59be34a32620554aa836f1
   "metadata": {},
   "source": [
    "Her lager vi en splitt basert på nøkkelord høyfrekvente"
   ]
  },
  {
   "cell_type": "code",
<<<<<<< HEAD
   "execution_count": 11,
=======
   "execution_count": 37,
>>>>>>> 2ecaa995a0026be7df59be34a32620554aa836f1
   "metadata": {},
   "outputs": [],
   "source": [
    "counts = dh.Counts(amtmann, words = \"efter etter på paa have ha hage\".split())"
   ]
  },
  {
   "cell_type": "code",
<<<<<<< HEAD
   "execution_count": 12,
=======
   "execution_count": 45,
>>>>>>> 2ecaa995a0026be7df59be34a32620554aa836f1
   "metadata": {},
   "outputs": [
    {
     "data": {
      "text/html": [
       "<div>\n",
       "<style scoped>\n",
       "    .dataframe tbody tr th:only-of-type {\n",
       "        vertical-align: middle;\n",
       "    }\n",
       "\n",
       "    .dataframe tbody tr th {\n",
       "        vertical-align: top;\n",
       "    }\n",
       "\n",
       "    .dataframe thead th {\n",
       "        text-align: right;\n",
       "    }\n",
       "</style>\n",
       "<table border=\"1\" class=\"dataframe\">\n",
       "  <thead>\n",
       "    <tr style=\"text-align: right;\">\n",
       "      <th></th>\n",
       "      <th>URN:NBN:no-nb_digibok_2008040300020</th>\n",
       "      <th>URN:NBN:no-nb_digibok_2008081500025</th>\n",
       "      <th>URN:NBN:no-nb_digibok_2011060606014</th>\n",
       "      <th>URN:NBN:no-nb_digibok_2009031600127</th>\n",
       "    </tr>\n",
       "  </thead>\n",
       "  <tbody>\n",
       "    <tr>\n",
       "      <th>paa</th>\n",
       "      <td>428.0</td>\n",
       "      <td>0.0</td>\n",
       "      <td>0.0</td>\n",
       "      <td>0.0</td>\n",
       "    </tr>\n",
       "    <tr>\n",
       "      <th>efter</th>\n",
       "      <td>107.0</td>\n",
       "      <td>0.0</td>\n",
       "      <td>0.0</td>\n",
       "      <td>0.0</td>\n",
       "    </tr>\n",
       "    <tr>\n",
       "      <th>have</th>\n",
       "      <td>93.0</td>\n",
       "      <td>0.0</td>\n",
       "      <td>3.0</td>\n",
       "      <td>3.0</td>\n",
       "    </tr>\n",
       "    <tr>\n",
       "      <th>ha</th>\n",
       "      <td>1.0</td>\n",
       "      <td>43.0</td>\n",
       "      <td>46.0</td>\n",
       "      <td>44.0</td>\n",
       "    </tr>\n",
       "    <tr>\n",
       "      <th>hage</th>\n",
       "      <td>0.0</td>\n",
       "      <td>2.0</td>\n",
       "      <td>0.0</td>\n",
       "      <td>0.0</td>\n",
       "    </tr>\n",
       "    <tr>\n",
       "      <th>etter</th>\n",
       "      <td>0.0</td>\n",
       "      <td>108.0</td>\n",
       "      <td>132.0</td>\n",
       "      <td>122.0</td>\n",
       "    </tr>\n",
       "    <tr>\n",
       "      <th>på</th>\n",
       "      <td>0.0</td>\n",
       "      <td>506.0</td>\n",
       "      <td>576.0</td>\n",
       "      <td>565.0</td>\n",
       "    </tr>\n",
       "  </tbody>\n",
       "</table>\n",
       "</div>"
      ],
      "text/plain": [
       "       URN:NBN:no-nb_digibok_2008040300020  \\\n",
       "paa                                  428.0   \n",
       "efter                                107.0   \n",
       "have                                  93.0   \n",
       "ha                                     1.0   \n",
       "hage                                   0.0   \n",
       "etter                                  0.0   \n",
       "på                                     0.0   \n",
       "\n",
       "       URN:NBN:no-nb_digibok_2008081500025  \\\n",
       "paa                                    0.0   \n",
       "efter                                  0.0   \n",
       "have                                   0.0   \n",
       "ha                                    43.0   \n",
       "hage                                   2.0   \n",
       "etter                                108.0   \n",
       "på                                   506.0   \n",
       "\n",
       "       URN:NBN:no-nb_digibok_2011060606014  \\\n",
       "paa                                    0.0   \n",
       "efter                                  0.0   \n",
       "have                                   3.0   \n",
       "ha                                    46.0   \n",
       "hage                                   0.0   \n",
       "etter                                132.0   \n",
       "på                                   576.0   \n",
       "\n",
       "       URN:NBN:no-nb_digibok_2009031600127  \n",
       "paa                                    0.0  \n",
       "efter                                  0.0  \n",
       "have                                   3.0  \n",
       "ha                                    44.0  \n",
       "hage                                   0.0  \n",
       "etter                                122.0  \n",
       "på                                   565.0  "
      ]
     },
<<<<<<< HEAD
     "execution_count": 12,
=======
     "execution_count": 45,
>>>>>>> 2ecaa995a0026be7df59be34a32620554aa836f1
     "metadata": {},
     "output_type": "execute_result"
    }
   ],
   "source": [
    "counts.counts.fillna(0)"
   ]
  },
  {
   "cell_type": "code",
<<<<<<< HEAD
   "execution_count": 13,
=======
   "execution_count": 44,
>>>>>>> 2ecaa995a0026be7df59be34a32620554aa836f1
   "metadata": {},
   "outputs": [
    {
     "data": {
      "text/plain": [
<<<<<<< HEAD
       "{'old': ['URN:NBN:no-nb_digibok_2014092608039',\n",
       "  'URN:NBN:no-nb_digibok_2014111008005'],\n",
       " 'new': ['URN:NBN:no-nb_digibok_2014092308143',\n",
       "  'URN:NBN:no-nb_digibok_2010102906097',\n",
       "  'URN:NBN:no-nb_digibok_2011070620007']}"
      ]
     },
     "execution_count": 13,
=======
       "{'old': ['URN:NBN:no-nb_digibok_2008040300020'],\n",
       " 'new': ['URN:NBN:no-nb_digibok_2008040300020',\n",
       "  'URN:NBN:no-nb_digibok_2008081500025',\n",
       "  'URN:NBN:no-nb_digibok_2011060606014',\n",
       "  'URN:NBN:no-nb_digibok_2009031600127']}"
      ]
     },
     "execution_count": 44,
>>>>>>> 2ecaa995a0026be7df59be34a32620554aa836f1
     "metadata": {},
     "output_type": "execute_result"
    }
   ],
   "source": [
    "(parallellkorpus := split_old_new(counts.counts, new_word = \"på\", old_word = \"paa\", threshold=0))"
   ]
  },
  {
   "cell_type": "code",
<<<<<<< HEAD
   "execution_count": 14,
=======
   "execution_count": 17,
>>>>>>> 2ecaa995a0026be7df59be34a32620554aa836f1
   "metadata": {},
   "outputs": [],
   "source": [
    "old_amtmann = dh.CorpusFromIdentifiers(parallellkorpus['old'])"
   ]
  },
  {
   "cell_type": "code",
<<<<<<< HEAD
   "execution_count": 15,
=======
   "execution_count": 18,
>>>>>>> 2ecaa995a0026be7df59be34a32620554aa836f1
   "metadata": {},
   "outputs": [],
   "source": [
    "new_amtmann = dh.CorpusFromIdentifiers(parallellkorpus['new'])"
   ]
  },
  {
   "cell_type": "code",
<<<<<<< HEAD
   "execution_count": 16,
=======
   "execution_count": 21,
>>>>>>> 2ecaa995a0026be7df59be34a32620554aa836f1
   "metadata": {},
   "outputs": [
    {
     "data": {
      "text/html": [
<<<<<<< HEAD
       "<style  type=\"text/css\" >\n",
       "</style><table id=\"T_c80feac8_a06d_11ec_bad3_a76f770c708f\" ><thead>    <tr>        <th class=\"blank level0\" ></th>        <th class=\"col_heading level0 col0\" >link</th>        <th class=\"col_heading level0 col1\" >concordance</th>    </tr></thead><tbody>\n",
       "                <tr>\n",
       "                        <th id=\"T_c80feac8_a06d_11ec_bad3_a76f770c708flevel0_row0\" class=\"row_heading level0 row0\" >0</th>\n",
       "                        <td id=\"T_c80feac8_a06d_11ec_bad3_a76f770c708frow0_col0\" class=\"data row0 col0\" ><a target='_blank' href = 'https://urn.nb.no/URN:NBN:no-nb_digibok_2014111008005'>URN:NBN:no-nb_digibok_2014111008005</a></td>\n",
       "                        <td id=\"T_c80feac8_a06d_11ec_bad3_a76f770c708frow0_col1\" class=\"data row0 col1\" >... Copyright © Rosinante Charlottenlund 1986 Boken er nysatt med Baskerville <b>etter</b> førsteutgaven , trykt i Christiania 1855</td>\n",
       "            </tr>\n",
       "            <tr>\n",
       "                        <th id=\"T_c80feac8_a06d_11ec_bad3_a76f770c708flevel0_row1\" class=\"row_heading level0 row1\" >1</th>\n",
       "                        <td id=\"T_c80feac8_a06d_11ec_bad3_a76f770c708frow1_col0\" class=\"data row1 col0\" ><a target='_blank' href = 'https://urn.nb.no/URN:NBN:no-nb_digibok_2014111008005'>URN:NBN:no-nb_digibok_2014111008005</a></td>\n",
       "                        <td id=\"T_c80feac8_a06d_11ec_bad3_a76f770c708frow1_col1\" class=\"data row1 col1\" >Boken utsendes <b>etter</b> overenskomst med Rosinante forlag aps . , Charlottenlund , Danmark</td>\n",
       "            </tr>\n",
       "    </tbody></table>"
      ],
      "text/plain": [
       "<pandas.io.formats.style.Styler at 0x7f42d146f700>"
      ]
     },
     "execution_count": 16,
=======
       "<style type=\"text/css\">\n",
       "</style>\n",
       "<table id=\"T_cfcfa_\">\n",
       "  <thead>\n",
       "    <tr>\n",
       "      <th class=\"blank level0\" >&nbsp;</th>\n",
       "      <th class=\"col_heading level0 col0\" >link</th>\n",
       "      <th class=\"col_heading level0 col1\" >concordance</th>\n",
       "    </tr>\n",
       "  </thead>\n",
       "  <tbody>\n",
       "    <tr>\n",
       "      <th id=\"T_cfcfa_level0_row0\" class=\"row_heading level0 row0\" >23</th>\n",
       "      <td id=\"T_cfcfa_row0_col0\" class=\"data row0 col0\" ><a target='_blank' href = 'https://urn.nb.no/URN:NBN:no-nb_digibok_2014092608039'>URN:NBN:no-nb_digibok_2014092608039</a></td>\n",
       "      <td id=\"T_cfcfa_row0_col1\" class=\"data row0 col1\" >... I tidsskrifter og aviser retter hun veltalende og heftige angrep <b>på</b> det bestående samfund for dets underku * else av... </td>\n",
       "    </tr>\n",
       "    <tr>\n",
       "      <th id=\"T_cfcfa_level0_row1\" class=\"row_heading level0 row1\" >4</th>\n",
       "      <td id=\"T_cfcfa_row1_col0\" class=\"data row1 col0\" ><a target='_blank' href = 'https://urn.nb.no/URN:NBN:no-nb_digibok_2014092608039'>URN:NBN:no-nb_digibok_2014092608039</a></td>\n",
       "      <td id=\"T_cfcfa_row1_col1\" class=\"data row1 col1\" >Hun <b>på</b> sin side blev himmelfallen over en slik erklæring og det gjennem en annen , og i sitt svarbrev... </td>\n",
       "    </tr>\n",
       "    <tr>\n",
       "      <th id=\"T_cfcfa_level0_row2\" class=\"row_heading level0 row2\" >13</th>\n",
       "      <td id=\"T_cfcfa_row2_col0\" class=\"data row2 col0\" ><a target='_blank' href = 'https://urn.nb.no/URN:NBN:no-nb_digibok_2014092608039'>URN:NBN:no-nb_digibok_2014092608039</a></td>\n",
       "      <td id=\"T_cfcfa_row2_col1\" class=\"data row2 col1\" >... En * somheten , enkens tilsidesettelse og savn , tanken <b>på</b> Welhaven og den spilte lykke overveldet henne , til... </td>\n",
       "    </tr>\n",
       "    <tr>\n",
       "      <th id=\"T_cfcfa_level0_row3\" class=\"row_heading level0 row3\" >9</th>\n",
       "      <td id=\"T_cfcfa_row3_col0\" class=\"data row3 col0\" ><a target='_blank' href = 'https://urn.nb.no/URN:NBN:no-nb_digibok_2014092608039'>URN:NBN:no-nb_digibok_2014092608039</a></td>\n",
       "      <td id=\"T_cfcfa_row3_col1\" class=\"data row3 col1\" >... Camilla W . ’ s navn <b>på</b> Welh . efter det ene av hans fornavn . I sitt første brev takker... </td>\n",
       "    </tr>\n",
       "    <tr>\n",
       "      <th id=\"T_cfcfa_level0_row4\" class=\"row_heading level0 row4\" >0</th>\n",
       "      <td id=\"T_cfcfa_row4_col0\" class=\"data row4 col0\" ><a target='_blank' href = 'https://urn.nb.no/URN:NBN:no-nb_digibok_2014092608039'>URN:NBN:no-nb_digibok_2014092608039</a></td>\n",
       "      <td id=\"T_cfcfa_row4_col1\" class=\"data row4 col1\" >... Tapet av henne gjorde et smertelig inntrykk <b>på</b> ham , også fordi han tross sitt løfte ennu ikke hadde sendt... </td>\n",
       "    </tr>\n",
       "    <tr>\n",
       "      <th id=\"T_cfcfa_level0_row5\" class=\"row_heading level0 row5\" >1</th>\n",
       "      <td id=\"T_cfcfa_row5_col0\" class=\"data row5 col0\" ><a target='_blank' href = 'https://urn.nb.no/URN:NBN:no-nb_digibok_2014092608039'>URN:NBN:no-nb_digibok_2014092608039</a></td>\n",
       "      <td id=\"T_cfcfa_row5_col1\" class=\"data row5 col1\" >... Hennes opdragelse og ers faring har fått henne til å tro at en kvinne aldri kan stole <b>på</b> lykken .... </td>\n",
       "    </tr>\n",
       "    <tr>\n",
       "      <th id=\"T_cfcfa_level0_row6\" class=\"row_heading level0 row6\" >6</th>\n",
       "      <td id=\"T_cfcfa_row6_col0\" class=\"data row6 col0\" ><a target='_blank' href = 'https://urn.nb.no/URN:NBN:no-nb_digibok_2014092608039'>URN:NBN:no-nb_digibok_2014092608039</a></td>\n",
       "      <td id=\"T_cfcfa_row6_col1\" class=\"data row6 col1\" >... Hun forteller i sin dagbok at hun næ * sten leste sig vanvittig <b>på</b> dette brev . Hennes første tanke... </td>\n",
       "    </tr>\n",
       "    <tr>\n",
       "      <th id=\"T_cfcfa_level0_row7\" class=\"row_heading level0 row7\" >24</th>\n",
       "      <td id=\"T_cfcfa_row7_col0\" class=\"data row7 col0\" ><a target='_blank' href = 'https://urn.nb.no/URN:NBN:no-nb_digibok_2014092608039'>URN:NBN:no-nb_digibok_2014092608039</a></td>\n",
       "      <td id=\"T_cfcfa_row7_col1\" class=\"data row7 col1\" >... Men hun gir også mot og håb , og tror <b>på</b> kvinnenes rike evner og høie kall . Hun blir... </td>\n",
       "    </tr>\n",
       "    <tr>\n",
       "      <th id=\"T_cfcfa_level0_row8\" class=\"row_heading level0 row8\" >20</th>\n",
       "      <td id=\"T_cfcfa_row8_col0\" class=\"data row8 col0\" ><a target='_blank' href = 'https://urn.nb.no/URN:NBN:no-nb_digibok_2014092608039'>URN:NBN:no-nb_digibok_2014092608039</a></td>\n",
       "      <td id=\"T_cfcfa_row8_col1\" class=\"data row8 col1\" >MerrimactMonitor : navn <b>på</b> panserskib brukt i den nordamerikanske borgerkrig 1861 — 65.</td>\n",
       "    </tr>\n",
       "    <tr>\n",
       "      <th id=\"T_cfcfa_level0_row9\" class=\"row_heading level0 row9\" >17</th>\n",
       "      <td id=\"T_cfcfa_row9_col0\" class=\"data row9 col0\" ><a target='_blank' href = 'https://urn.nb.no/URN:NBN:no-nb_digibok_2014092608039'>URN:NBN:no-nb_digibok_2014092608039</a></td>\n",
       "      <td id=\"T_cfcfa_row9_col1\" class=\"data row9 col1\" >... Ved sitt kunst * og livssyn stod hun nok Welhaven nærmest , men angrepene <b>på</b> broren gjorde henne alltid ondt... </td>\n",
       "    </tr>\n",
       "  </tbody>\n",
       "</table>\n"
      ],
      "text/plain": [
       "<pandas.io.formats.style.Styler at 0x7816a0b90fd0>"
      ]
     },
     "execution_count": 21,
>>>>>>> 2ecaa995a0026be7df59be34a32620554aa836f1
     "metadata": {},
     "output_type": "execute_result"
    }
   ],
   "source": [
    "dh.Concordance(old_amtmann, \"på\").show()"
   ]
  },
  {
   "cell_type": "code",
   "execution_count": 23,
   "metadata": {},
   "outputs": [
    {
     "data": {
      "text/html": [
       "<style type=\"text/css\">\n",
       "</style>\n",
       "<table id=\"T_26f1c_\">\n",
       "  <thead>\n",
       "    <tr>\n",
       "      <th class=\"blank level0\" >&nbsp;</th>\n",
       "      <th class=\"col_heading level0 col0\" >link</th>\n",
       "      <th class=\"col_heading level0 col1\" >concordance</th>\n",
       "    </tr>\n",
       "  </thead>\n",
       "  <tbody>\n",
       "    <tr>\n",
       "      <th id=\"T_26f1c_level0_row0\" class=\"row_heading level0 row0\" >313</th>\n",
       "      <td id=\"T_26f1c_row0_col0\" class=\"data row0 col0\" ><a target='_blank' href = 'https://urn.nb.no/URN:NBN:no-nb_digibok_2010102906097'>URN:NBN:no-nb_digibok_2010102906097</a></td>\n",
       "      <td id=\"T_26f1c_row0_col1\" class=\"data row0 col1\" >... Hun betrodde ham endog at et stille , huslig liv i en prestegård <b>på</b> landet var idealet av alle hennes... </td>\n",
       "    </tr>\n",
       "    <tr>\n",
       "      <th id=\"T_26f1c_level0_row1\" class=\"row_heading level0 row1\" >1018</th>\n",
       "      <td id=\"T_26f1c_row1_col0\" class=\"data row1 col0\" ><a target='_blank' href = 'https://urn.nb.no/URN:NBN:no-nb_digibok_2011070620007'>URN:NBN:no-nb_digibok_2011070620007</a></td>\n",
       "      <td id=\"T_26f1c_row1_col1\" class=\"data row1 col1\" >... Tenker man <b>på</b> de vanskelige materielle forhold , var det imponerende hva som i denne tiden var utrettet <b>på</b> de... </td>\n",
       "    </tr>\n",
       "    <tr>\n",
       "      <th id=\"T_26f1c_level0_row2\" class=\"row_heading level0 row2\" >120</th>\n",
       "      <td id=\"T_26f1c_row2_col0\" class=\"data row2 col0\" ><a target='_blank' href = 'https://urn.nb.no/URN:NBN:no-nb_digibok_2010102906097'>URN:NBN:no-nb_digibok_2010102906097</a></td>\n",
       "      <td id=\"T_26f1c_row2_col1\" class=\"data row2 col1\" >... nå , det manglet bare ! » Misfornøielse leiret sig <b>på</b> alle ansikter . Sofie drog et dypt sukk av utålmodighet... </td>\n",
       "    </tr>\n",
       "    <tr>\n",
       "      <th id=\"T_26f1c_level0_row3\" class=\"row_heading level0 row3\" >1023</th>\n",
       "      <td id=\"T_26f1c_row3_col0\" class=\"data row3 col0\" ><a target='_blank' href = 'https://urn.nb.no/URN:NBN:no-nb_digibok_2011070620007'>URN:NBN:no-nb_digibok_2011070620007</a></td>\n",
       "      <td id=\"T_26f1c_row3_col1\" class=\"data row3 col1\" >piker må lære å legge band <b>på</b> sine følelser , og « om mulig utrydde dem i tide » . Og amtmanninnen... </td>\n",
       "    </tr>\n",
       "    <tr>\n",
       "      <th id=\"T_26f1c_level0_row4\" class=\"row_heading level0 row4\" >76</th>\n",
       "      <td id=\"T_26f1c_row4_col0\" class=\"data row4 col0\" ><a target='_blank' href = 'https://urn.nb.no/URN:NBN:no-nb_digibok_2010102906097'>URN:NBN:no-nb_digibok_2010102906097</a></td>\n",
       "      <td id=\"T_26f1c_row4_col1\" class=\"data row4 col1\" >leste romaner og dikte , hadde innvirket <b>på</b> mig . Min mor , selv skjønn og meget begavet , kunde... </td>\n",
       "    </tr>\n",
       "    <tr>\n",
       "      <th id=\"T_26f1c_level0_row5\" class=\"row_heading level0 row5\" >447</th>\n",
       "      <td id=\"T_26f1c_row5_col0\" class=\"data row5 col0\" ><a target='_blank' href = 'https://urn.nb.no/URN:NBN:no-nb_digibok_2010102906097'>URN:NBN:no-nb_digibok_2010102906097</a></td>\n",
       "      <td id=\"T_26f1c_row5_col1\" class=\"data row5 col1\" >De mange heftige sinnsbevegelser hadde virket for sterkt <b>på</b> henne . Hun blev syk og nødt til å holde sengen... </td>\n",
       "    </tr>\n",
       "    <tr>\n",
       "      <th id=\"T_26f1c_level0_row6\" class=\"row_heading level0 row6\" >1308</th>\n",
       "      <td id=\"T_26f1c_row6_col0\" class=\"data row6 col0\" ><a target='_blank' href = 'https://urn.nb.no/URN:NBN:no-nb_digibok_2011070620007'>URN:NBN:no-nb_digibok_2011070620007</a></td>\n",
       "      <td id=\"T_26f1c_row6_col1\" class=\"data row6 col1\" >... Man hadde truffet dem spaserende og til hest , og <b>på</b> hjemturer maket de det alltid så at de kom... </td>\n",
       "    </tr>\n",
       "    <tr>\n",
       "      <th id=\"T_26f1c_level0_row7\" class=\"row_heading level0 row7\" >61</th>\n",
       "      <td id=\"T_26f1c_row7_col0\" class=\"data row7 col0\" ><a target='_blank' href = 'https://urn.nb.no/URN:NBN:no-nb_digibok_2010102906097'>URN:NBN:no-nb_digibok_2010102906097</a></td>\n",
       "      <td id=\"T_26f1c_row7_col1\" class=\"data row7 col1\" >... Mor sa at det var skam , når hennes far hadde kostet så mange penger <b>på</b> henne , at hun... </td>\n",
       "    </tr>\n",
       "    <tr>\n",
       "      <th id=\"T_26f1c_level0_row8\" class=\"row_heading level0 row8\" >175</th>\n",
       "      <td id=\"T_26f1c_row8_col0\" class=\"data row8 col0\" ><a target='_blank' href = 'https://urn.nb.no/URN:NBN:no-nb_digibok_2010102906097'>URN:NBN:no-nb_digibok_2010102906097</a></td>\n",
       "      <td id=\"T_26f1c_row8_col1\" class=\"data row8 col1\" >« Er det ikke som jeg sier ! Se <b>på</b> de to søstre ! Den ene kaller sig en skjønnhet og... </td>\n",
       "    </tr>\n",
       "    <tr>\n",
       "      <th id=\"T_26f1c_level0_row9\" class=\"row_heading level0 row9\" >1251</th>\n",
       "      <td id=\"T_26f1c_row9_col0\" class=\"data row9 col0\" ><a target='_blank' href = 'https://urn.nb.no/URN:NBN:no-nb_digibok_2011070620007'>URN:NBN:no-nb_digibok_2011070620007</a></td>\n",
       "      <td id=\"T_26f1c_row9_col1\" class=\"data row9 col1\" >« Hvad gikk det av Kold ? » sa fruen , « han svarte ikke <b>på</b> mitt spørsmål , og da han gikk... </td>\n",
       "    </tr>\n",
       "  </tbody>\n",
       "</table>\n"
      ],
      "text/plain": [
       "<pandas.io.formats.style.Styler at 0x78169f9a4b20>"
      ]
     },
     "execution_count": 23,
     "metadata": {},
     "output_type": "execute_result"
    }
   ],
   "source": [
    "dh.Concordance(new_amtmann, \"etter OR på\").show()"
   ]
  },
  {
   "cell_type": "code",
   "execution_count": null,
   "metadata": {},
   "outputs": [],
   "source": [
    "import"
   ]
  },
  {
   "cell_type": "code",
   "execution_count": null,
   "metadata": {},
   "outputs": [],
   "source": []
  }
 ],
 "metadata": {
  "kernelspec": {
   "display_name": "Python 3 (ipykernel)",
   "language": "python",
   "name": "python3"
  },
  "language_info": {
   "codemirror_mode": {
    "name": "ipython",
    "version": 3
   },
   "file_extension": ".py",
   "mimetype": "text/x-python",
   "name": "python",
   "nbconvert_exporter": "python",
   "pygments_lexer": "ipython3",
   "version": "3.9.7"
  }
 },
 "nbformat": 4,
 "nbformat_minor": 4
}
