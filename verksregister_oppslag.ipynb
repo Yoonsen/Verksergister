{
 "cells": [
  {
   "cell_type": "markdown",
   "id": "9a534c9b-fbed-4866-b0b6-b0211e04218d",
   "metadata": {},
   "source": [
    "# Spørring mot verksregisteret\n",
    "\n",
    "Oddrun Ohren \n",
    "\n",
    "Lars G Johnsen "
   ]
  },
  {
   "cell_type": "markdown",
   "id": "5cc2ffcf-3411-4f24-95d8-75b299d744fd",
   "metadata": {},
   "source": [
    "## Kode"
   ]
  },
  {
   "cell_type": "code",
   "execution_count": 1,
   "id": "9ce3f1fa-05b6-4ed2-9d9c-c1d23c6b0694",
   "metadata": {},
   "outputs": [],
   "source": [
    "import json\n",
    "from bs4 import BeautifulSoup\n",
    "import pandas as pd\n",
    "import requests\n",
    "import re\n",
    "import dhlab.text as dh\n",
    "import dhlab.api.dhlab_api as dhapi"
   ]
  },
  {
   "cell_type": "code",
   "execution_count": 2,
   "id": "6704d380-85d1-4c5f-b682-2b770a51ee87",
   "metadata": {
    "tags": []
   },
   "outputs": [
    {
     "data": {
      "text/html": [
       "<style>\n",
       "p {\n",
       "    font-size:1.3em;\n",
       "};\n",
       "h1, h2, h3, h4 {\n",
       "  background-color: black;\n",
       "  color: white;\n",
       "}\n",
       "</style>\n"
      ],
      "text/plain": [
       "<IPython.core.display.HTML object>"
      ]
     },
     "metadata": {},
     "output_type": "display_data"
    }
   ],
   "source": [
    "%%HTML\n",
    "<style>\n",
    "p {\n",
    "    font-size:1.3em;\n",
    "};\n",
    "h1, h2, h3, h4 {\n",
    "  background-color: black;\n",
    "  color: white;\n",
    "}\n",
    "</style>"
   ]
  },
  {
   "cell_type": "code",
   "execution_count": 3,
   "id": "9862a7b2-95df-4b7b-9dfd-9e93c17bedf2",
   "metadata": {},
   "outputs": [],
   "source": [
    "def query_verksregister(forfatter=\"\", tittel=\"\", page = 1):\n",
    "    \"\"\"spør mot verksregisteret \n",
    "    api for webgrensesnittet https://livedata.bibsys.no/verksregister/\"\"\"\n",
    "    \n",
    "    # sett opp query\n",
    "    params = {\n",
    "        \"query\" : f\"(forfatter:{forfatter}) AND (tittel:{tittel})\",\n",
    "        \"page\": page\n",
    "    }\n",
    "    \n",
    "    #utfør spørring\n",
    "    res = requests.get(\"https://livedata.bibsys.no/works-registry-api/search/searchWorksbyTitleAndCreator\", params = params)\n",
    "    if res.status_code == 200:\n",
    "        res = res.text\n",
    "    else:\n",
    "        res = None\n",
    "    \n",
    "    return res"
   ]
  },
  {
   "cell_type": "code",
   "execution_count": 4,
   "id": "aede5492-0012-43ac-8632-9b8a8ee2ec8a",
   "metadata": {},
   "outputs": [],
   "source": [
    "def find_works(forfatter=\"\", tittel=\"\"):\n",
    "    \"\"\"finn verk i registeret\n",
    "    returner dem som pandas dataramme\"\"\"\n",
    "    \n",
    "    query_res = query_verksregister(forfatter, tittel)\n",
    "    if query_res is None:\n",
    "        return None\n",
    "    soup = BeautifulSoup(query_res)\n",
    "    n = soup.find(\"p\")\n",
    "    struct = json.loads(n.text)\n",
    "    res = pd.DataFrame(struct['results'])\n",
    "    return res"
   ]
  },
  {
   "cell_type": "code",
   "execution_count": 5,
   "id": "fc48384c-0037-429c-bd9f-72a701d7bdf5",
   "metadata": {},
   "outputs": [],
   "source": [
    "def works(identifier):\n",
    "    \"\"\"Hent ut data om et verk fra identifikatoren\"\"\"\n",
    "    \n",
    "    res = requests.get(f\"https://livedata.bibsys.no/works-registry-api/biblio/byWork/{identifier}\")\n",
    "    try:\n",
    "        r = json.loads(res.text)\n",
    "    except:\n",
    "        r = {}\n",
    "    return r"
   ]
  },
  {
   "cell_type": "code",
   "execution_count": 6,
   "id": "771edcbe-ab5b-4731-a357-b5101f5eba0a",
   "metadata": {},
   "outputs": [],
   "source": [
    "def url_to_urn(url):\n",
    "    \"\"\"Pell ut URN fra en URL\"\"\"\n",
    "\n",
    "    a = re.findall(\"URN.*\", url)\n",
    "    if a != []:\n",
    "        res = a[0]\n",
    "    else:\n",
    "        res = ''\n",
    "    return res"
   ]
  },
  {
   "cell_type": "code",
   "execution_count": 7,
   "id": "7a50b4bd-1f38-4785-9f8b-7f5773acacb6",
   "metadata": {},
   "outputs": [],
   "source": [
    "def urns_for_works(works_id):\n",
    "    \"\"\"Fra en verks-ID hent ut alle URNer\n",
    "    param:\n",
    "        works_id a work identifier - from \"\"\"\n",
    "    \n",
    "    graph = works(works_id)['@graph']\n",
    "    res = [[url_to_urn(x['id']) for x in i['bibsys:url_to_content']] for i in graph if 'bibsys:url_to_content' in i]\n",
    "    result = [x for y in res for x in y if x != '']\n",
    "    return result"
   ]
  },
  {
   "cell_type": "markdown",
   "id": "f2bd04f6-1347-4aaa-8592-51e22f437ba9",
   "metadata": {},
   "source": [
    "# Let etter en bestemt bok\n",
    "\n",
    "Det her kan sikkert generaliseres på en måte, men tenker at det er litt manuelt arbeid i å konstruere korpuset."
   ]
  },
  {
   "cell_type": "code",
   "execution_count": 8,
   "id": "325313ff-7b79-4d42-bbd0-c897af39790c",
   "metadata": {},
   "outputs": [],
   "source": [
    "result = find_works(\"dante\", \"inferno\")"
   ]
  },
  {
   "cell_type": "markdown",
   "id": "88a534aa-1380-46c6-91b8-88d3bb2dce32",
   "metadata": {},
   "source": [
    "Søket gir en dataramme, ideelt inneholder en en rad, der første rad er verksidentiteten."
   ]
  },
  {
   "cell_type": "code",
   "execution_count": 9,
   "id": "9f64a75f-97a6-4eb3-8b45-331f295428db",
   "metadata": {},
   "outputs": [
    {
     "data": {
      "text/html": [
       "<div>\n",
       "<style scoped>\n",
       "    .dataframe tbody tr th:only-of-type {\n",
       "        vertical-align: middle;\n",
       "    }\n",
       "\n",
       "    .dataframe tbody tr th {\n",
       "        vertical-align: top;\n",
       "    }\n",
       "\n",
       "    .dataframe thead th {\n",
       "        text-align: right;\n",
       "    }\n",
       "</style>\n",
       "<table border=\"1\" class=\"dataframe\">\n",
       "  <thead>\n",
       "    <tr style=\"text-align: right;\">\n",
       "      <th></th>\n",
       "      <th>id</th>\n",
       "      <th>title</th>\n",
       "      <th>language</th>\n",
       "      <th>quality</th>\n",
       "      <th>created</th>\n",
       "      <th>manifested</th>\n",
       "      <th>creators</th>\n",
       "      <th>types</th>\n",
       "      <th>deleted</th>\n",
       "    </tr>\n",
       "  </thead>\n",
       "  <tbody>\n",
       "    <tr>\n",
       "      <th>0</th>\n",
       "      <td>bd400f20b17f4bbbf0fdc55f0f4f5f6de29f67ca96ec61...</td>\n",
       "      <td>Inferno :den guddommelige komedie</td>\n",
       "      <td>nob</td>\n",
       "      <td>kat2</td>\n",
       "      <td>2018-07-24T11:43:30.000+0000</td>\n",
       "      <td>2017-01-01T00:00:00.000+0000</td>\n",
       "      <td>[{'name': 'Dante Alighieri', 'birth': 1265, 'd...</td>\n",
       "      <td>[{'id': 'V1000', 'labels': {'no': 'Språkbasert...</td>\n",
       "      <td>False</td>\n",
       "    </tr>\n",
       "    <tr>\n",
       "      <th>1</th>\n",
       "      <td>ad1b22cc64d728a90334f2d825c09bf57debb5d637a073...</td>\n",
       "      <td>La divina commedia, Inferno</td>\n",
       "      <td>nno</td>\n",
       "      <td>kat2</td>\n",
       "      <td>2018-07-24T11:12:44.000+0000</td>\n",
       "      <td>1993-01-01T00:00:00.000+0000</td>\n",
       "      <td>[{'name': 'Dante Alighieri', 'birth': 1265, 'd...</td>\n",
       "      <td>[{'id': 'V1000', 'labels': {'no': 'Språkbasert...</td>\n",
       "      <td>False</td>\n",
       "    </tr>\n",
       "  </tbody>\n",
       "</table>\n",
       "</div>"
      ],
      "text/plain": [
       "                                                  id  \\\n",
       "0  bd400f20b17f4bbbf0fdc55f0f4f5f6de29f67ca96ec61...   \n",
       "1  ad1b22cc64d728a90334f2d825c09bf57debb5d637a073...   \n",
       "\n",
       "                               title language quality  \\\n",
       "0  Inferno :den guddommelige komedie      nob    kat2   \n",
       "1        La divina commedia, Inferno      nno    kat2   \n",
       "\n",
       "                        created                    manifested  \\\n",
       "0  2018-07-24T11:43:30.000+0000  2017-01-01T00:00:00.000+0000   \n",
       "1  2018-07-24T11:12:44.000+0000  1993-01-01T00:00:00.000+0000   \n",
       "\n",
       "                                            creators  \\\n",
       "0  [{'name': 'Dante Alighieri', 'birth': 1265, 'd...   \n",
       "1  [{'name': 'Dante Alighieri', 'birth': 1265, 'd...   \n",
       "\n",
       "                                               types  deleted  \n",
       "0  [{'id': 'V1000', 'labels': {'no': 'Språkbasert...    False  \n",
       "1  [{'id': 'V1000', 'labels': {'no': 'Språkbasert...    False  "
      ]
     },
     "execution_count": 9,
     "metadata": {},
     "output_type": "execute_result"
    }
   ],
   "source": [
    "result"
   ]
  },
  {
   "cell_type": "markdown",
   "id": "cb645d35-27d9-4cae-8cc8-6e5596a9924a",
   "metadata": {},
   "source": [
    "Finn alle URNer for verket"
   ]
  },
  {
   "cell_type": "code",
   "execution_count": 12,
   "id": "695344e8-c28b-4d26-8635-92678ac1098c",
   "metadata": {},
   "outputs": [
    {
     "data": {
      "text/plain": [
       "'bd400f20b17f4bbbf0fdc55f0f4f5f6de29f67ca96ec61c1511bc526bdf02a3f'"
      ]
     },
     "execution_count": 12,
     "metadata": {},
     "output_type": "execute_result"
    }
   ],
   "source": [
    "result.id[0]"
   ]
  },
  {
   "cell_type": "code",
   "execution_count": 17,
   "id": "511ef34e-0e49-46ee-95b9-3e9d58dbebef",
   "metadata": {},
   "outputs": [],
   "source": [
    "urns = urns_for_works(result.id[1])"
   ]
  },
  {
   "cell_type": "code",
   "execution_count": 18,
   "id": "6ada8e00-ca9c-436e-af21-890884ad8c69",
   "metadata": {},
   "outputs": [
    {
     "data": {
      "text/plain": [
       "['URN:NBN:no-nb_digibok_2008011601096']"
      ]
     },
     "execution_count": 18,
     "metadata": {},
     "output_type": "execute_result"
    }
   ],
   "source": [
    "urns"
   ]
  },
  {
   "cell_type": "markdown",
   "id": "1a0d910d-c38a-42c3-bda7-712ca250d0e2",
   "metadata": {},
   "source": [
    "Let opp URN-ene i dhlab, og sorter dem på år. Datarammen gir det som skal til for å konstruere parallelltekster. Det er en del titler som inneholder flere tekster, så det må sjekkes. Ellers kan tekster velges ut mer eller mindre automatisk fra årsspenn, og knyttes til språkendringsperioder som 1907, 1917, 193x, 19.. og flere."
   ]
  },
  {
   "cell_type": "code",
   "execution_count": 19,
   "id": "91244e1a-f453-46e9-8cca-e68fa068f36e",
   "metadata": {},
   "outputs": [
    {
     "data": {
      "text/html": [
       "<div>\n",
       "<style scoped>\n",
       "    .dataframe tbody tr th:only-of-type {\n",
       "        vertical-align: middle;\n",
       "    }\n",
       "\n",
       "    .dataframe tbody tr th {\n",
       "        vertical-align: top;\n",
       "    }\n",
       "\n",
       "    .dataframe thead th {\n",
       "        text-align: right;\n",
       "    }\n",
       "</style>\n",
       "<table border=\"1\" class=\"dataframe\">\n",
       "  <thead>\n",
       "    <tr style=\"text-align: right;\">\n",
       "      <th></th>\n",
       "      <th>dhlabid</th>\n",
       "      <th>title</th>\n",
       "      <th>authors</th>\n",
       "      <th>urn</th>\n",
       "      <th>oaiid</th>\n",
       "      <th>sesamid</th>\n",
       "      <th>isbn10</th>\n",
       "      <th>city</th>\n",
       "      <th>timestamp</th>\n",
       "      <th>year</th>\n",
       "      <th>publisher</th>\n",
       "      <th>langs</th>\n",
       "      <th>subjects</th>\n",
       "      <th>ddc</th>\n",
       "      <th>genres</th>\n",
       "      <th>literaryform</th>\n",
       "      <th>doctype</th>\n",
       "    </tr>\n",
       "  </thead>\n",
       "  <tbody>\n",
       "    <tr>\n",
       "      <th>0</th>\n",
       "      <td>100460043</td>\n",
       "      <td>Helvetet</td>\n",
       "      <td>Dante Alighieri / Ulleland , Magnus</td>\n",
       "      <td>URN:NBN:no-nb_digibok_2008011601096</td>\n",
       "      <td>oai:nb.bibsys.no:999322108304702202</td>\n",
       "      <td>e1272051d2068047c58b859b6f66e350</td>\n",
       "      <td>8205219214</td>\n",
       "      <td>Oslo</td>\n",
       "      <td>19930101</td>\n",
       "      <td>1993</td>\n",
       "      <td>Gyldendal</td>\n",
       "      <td>nno / ita</td>\n",
       "      <td>italia / litteratur / italiensk</td>\n",
       "      <td>851</td>\n",
       "      <td>poetry</td>\n",
       "      <td>Skjønnlitteratur</td>\n",
       "      <td>digibok</td>\n",
       "    </tr>\n",
       "  </tbody>\n",
       "</table>\n",
       "</div>"
      ],
      "text/plain": [
       "     dhlabid     title                              authors  \\\n",
       "0  100460043  Helvetet  Dante Alighieri / Ulleland , Magnus   \n",
       "\n",
       "                                   urn                                oaiid  \\\n",
       "0  URN:NBN:no-nb_digibok_2008011601096  oai:nb.bibsys.no:999322108304702202   \n",
       "\n",
       "                            sesamid      isbn10  city  timestamp  year  \\\n",
       "0  e1272051d2068047c58b859b6f66e350  8205219214  Oslo   19930101  1993   \n",
       "\n",
       "   publisher      langs                         subjects  ddc  genres  \\\n",
       "0  Gyldendal  nno / ita  italia / litteratur / italiensk  851  poetry   \n",
       "\n",
       "       literaryform  doctype  \n",
       "0  Skjønnlitteratur  digibok  "
      ]
     },
     "execution_count": 19,
     "metadata": {},
     "output_type": "execute_result"
    }
   ],
   "source": [
    "dhapi.get_metadata(urns).sort_values(by = 'year')"
   ]
  },
  {
   "cell_type": "code",
   "execution_count": null,
   "id": "46d21230-a9b2-4edf-add7-162b9c78abeb",
   "metadata": {},
   "outputs": [],
   "source": []
  },
  {
   "cell_type": "code",
   "execution_count": null,
   "id": "899225be-e203-40ec-b6e8-70b4ba960be9",
   "metadata": {},
   "outputs": [],
   "source": []
  },
  {
   "cell_type": "code",
   "execution_count": null,
   "id": "e998a45b-469f-40c1-b73e-1aa6e7c4a707",
   "metadata": {},
   "outputs": [],
   "source": [
    "amtmann_korpus = dh.urnlist"
   ]
  },
  {
   "cell_type": "code",
   "execution_count": null,
   "id": "ecc98d44-71c2-4946-b565-467bbae9abf4",
   "metadata": {},
   "outputs": [],
   "source": [
    "amtmann_korpus.corpus"
   ]
  }
 ],
 "metadata": {
  "kernelspec": {
   "display_name": "Python 3",
   "language": "python",
   "name": "python3"
  },
  "language_info": {
   "codemirror_mode": {
    "name": "ipython",
    "version": 3
   },
   "file_extension": ".py",
   "mimetype": "text/x-python",
   "name": "python",
   "nbconvert_exporter": "python",
   "pygments_lexer": "ipython3",
   "version": "3.8.1"
  }
 },
 "nbformat": 4,
 "nbformat_minor": 5
}
